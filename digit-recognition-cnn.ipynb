{
 "cells": [
  {
   "cell_type": "markdown",
   "id": "d260e260",
   "metadata": {
    "papermill": {
     "duration": 0.006306,
     "end_time": "2023-07-26T03:23:01.896671",
     "exception": false,
     "start_time": "2023-07-26T03:23:01.890365",
     "status": "completed"
    },
    "tags": []
   },
   "source": [
    "# Digit Recognition using Convolutional Neural Network\n",
    "\n",
    "Heavily inspired by Yassine Ghouzam's Notebook\n",
    "\n",
    "Link to Notebook: https://www.kaggle.com/code/yassineghouzam/introduction-to-cnn-keras-0-997-top-6#3.-CNN"
   ]
  },
  {
   "cell_type": "code",
   "execution_count": 1,
   "id": "11350c0f",
   "metadata": {
    "_cell_guid": "b1076dfc-b9ad-4769-8c92-a6c4dae69d19",
    "_uuid": "8f2839f25d086af736a60e9eeb907d3b93b6e0e5",
    "execution": {
     "iopub.execute_input": "2023-07-26T03:23:01.910862Z",
     "iopub.status.busy": "2023-07-26T03:23:01.910011Z",
     "iopub.status.idle": "2023-07-26T03:23:12.758342Z",
     "shell.execute_reply": "2023-07-26T03:23:12.757014Z"
    },
    "papermill": {
     "duration": 10.858298,
     "end_time": "2023-07-26T03:23:12.760853",
     "exception": false,
     "start_time": "2023-07-26T03:23:01.902555",
     "status": "completed"
    },
    "tags": []
   },
   "outputs": [
    {
     "name": "stderr",
     "output_type": "stream",
     "text": [
      "/opt/conda/lib/python3.10/site-packages/tensorflow_io/python/ops/__init__.py:98: UserWarning: unable to load libtensorflow_io_plugins.so: unable to open file: libtensorflow_io_plugins.so, from paths: ['/opt/conda/lib/python3.10/site-packages/tensorflow_io/python/ops/libtensorflow_io_plugins.so']\n",
      "caused by: ['/opt/conda/lib/python3.10/site-packages/tensorflow_io/python/ops/libtensorflow_io_plugins.so: undefined symbol: _ZN3tsl6StatusC1EN10tensorflow5error4CodeESt17basic_string_viewIcSt11char_traitsIcEENS_14SourceLocationE']\n",
      "  warnings.warn(f\"unable to load libtensorflow_io_plugins.so: {e}\")\n",
      "/opt/conda/lib/python3.10/site-packages/tensorflow_io/python/ops/__init__.py:104: UserWarning: file system plugins are not loaded: unable to open file: libtensorflow_io.so, from paths: ['/opt/conda/lib/python3.10/site-packages/tensorflow_io/python/ops/libtensorflow_io.so']\n",
      "caused by: ['/opt/conda/lib/python3.10/site-packages/tensorflow_io/python/ops/libtensorflow_io.so: undefined symbol: _ZTVN10tensorflow13GcsFileSystemE']\n",
      "  warnings.warn(f\"file system plugins are not loaded: {e}\")\n"
     ]
    },
    {
     "name": "stdout",
     "output_type": "stream",
     "text": [
      "/kaggle/input/digit-recognizer/sample_submission.csv\n",
      "/kaggle/input/digit-recognizer/train.csv\n",
      "/kaggle/input/digit-recognizer/test.csv\n"
     ]
    }
   ],
   "source": [
    "# This Python 3 environment comes with many helpful analytics libraries installed\n",
    "# It is defined by the kaggle/python Docker image: https://github.com/kaggle/docker-python\n",
    "# For example, here's several helpful packages to load\n",
    "\n",
    "import numpy as np # linear algebra\n",
    "import pandas as pd # data processing, CSV file I/O (e.g. pd.read_csv)\n",
    "import matplotlib.pyplot as plt\n",
    "import seaborn as sns\n",
    "%matplotlib inline\n",
    "\n",
    "np.random.seed(2)\n",
    "\n",
    "import tensorflow as tf\n",
    "from tensorflow import keras\n",
    "\n",
    "from sklearn.model_selection import train_test_split\n",
    "from sklearn.metrics import confusion_matrix\n",
    "from keras.utils.np_utils import to_categorical # one-hot encoding\n",
    "from keras.models import Sequential\n",
    "from keras.layers import Dense, Dropout, Flatten, Conv2D, MaxPool2D, BatchNormalization\n",
    "from keras.preprocessing.image import ImageDataGenerator\n",
    "from keras.callbacks import ReduceLROnPlateau, EarlyStopping\n",
    "from keras.optimizers import RMSprop\n",
    "\n",
    "sns.set(style='white', context='notebook', palette='deep')\n",
    "\n",
    "\n",
    "# Input data files are available in the read-only \"../input/\" directory\n",
    "# For example, running this (by clicking run or pressing Shift+Enter) will list all files under the input directory\n",
    "\n",
    "import os\n",
    "for dirname, _, filenames in os.walk('/kaggle/input'):\n",
    "    for filename in filenames:\n",
    "        print(os.path.join(dirname, filename))\n",
    "\n",
    "# You can write up to 20GB to the current directory (/kaggle/working/) that gets preserved as output when you create a version using \"Save & Run All\" \n",
    "# You can also write temporary files to /kaggle/temp/, but they won't be saved outside of the current session"
   ]
  },
  {
   "cell_type": "code",
   "execution_count": 2,
   "id": "583cea77",
   "metadata": {
    "execution": {
     "iopub.execute_input": "2023-07-26T03:23:12.773832Z",
     "iopub.status.busy": "2023-07-26T03:23:12.773218Z",
     "iopub.status.idle": "2023-07-26T03:23:19.095307Z",
     "shell.execute_reply": "2023-07-26T03:23:19.094207Z"
    },
    "papermill": {
     "duration": 6.331288,
     "end_time": "2023-07-26T03:23:19.097962",
     "exception": false,
     "start_time": "2023-07-26T03:23:12.766674",
     "status": "completed"
    },
    "tags": []
   },
   "outputs": [],
   "source": [
    "train = pd.read_csv('/kaggle/input/digit-recognizer/train.csv')\n",
    "test = pd.read_csv('/kaggle/input/digit-recognizer/test.csv')\n",
    "sample = pd.read_csv('/kaggle/input/digit-recognizer/sample_submission.csv')"
   ]
  },
  {
   "cell_type": "markdown",
   "id": "6b20ad49",
   "metadata": {
    "papermill": {
     "duration": 0.005675,
     "end_time": "2023-07-26T03:23:19.109519",
     "exception": false,
     "start_time": "2023-07-26T03:23:19.103844",
     "status": "completed"
    },
    "tags": []
   },
   "source": [
    "## Data Representation"
   ]
  },
  {
   "cell_type": "code",
   "execution_count": 3,
   "id": "83698278",
   "metadata": {
    "execution": {
     "iopub.execute_input": "2023-07-26T03:23:19.122216Z",
     "iopub.status.busy": "2023-07-26T03:23:19.121890Z",
     "iopub.status.idle": "2023-07-26T03:23:19.221913Z",
     "shell.execute_reply": "2023-07-26T03:23:19.220867Z"
    },
    "papermill": {
     "duration": 0.10913,
     "end_time": "2023-07-26T03:23:19.224254",
     "exception": false,
     "start_time": "2023-07-26T03:23:19.115124",
     "status": "completed"
    },
    "tags": []
   },
   "outputs": [
    {
     "data": {
      "text/plain": [
       "1    4684\n",
       "7    4401\n",
       "3    4351\n",
       "9    4188\n",
       "2    4177\n",
       "6    4137\n",
       "0    4132\n",
       "4    4072\n",
       "8    4063\n",
       "5    3795\n",
       "Name: label, dtype: int64"
      ]
     },
     "execution_count": 3,
     "metadata": {},
     "output_type": "execute_result"
    }
   ],
   "source": [
    "X_train = train.drop(['label'], axis = 1)\n",
    "y_train = train['label']\n",
    "\n",
    "# Count numbers\n",
    "y_train.value_counts()"
   ]
  },
  {
   "cell_type": "code",
   "execution_count": 4,
   "id": "ffcd0edb",
   "metadata": {
    "execution": {
     "iopub.execute_input": "2023-07-26T03:23:19.236818Z",
     "iopub.status.busy": "2023-07-26T03:23:19.236514Z",
     "iopub.status.idle": "2023-07-26T03:23:19.308198Z",
     "shell.execute_reply": "2023-07-26T03:23:19.307134Z"
    },
    "papermill": {
     "duration": 0.080566,
     "end_time": "2023-07-26T03:23:19.310465",
     "exception": false,
     "start_time": "2023-07-26T03:23:19.229899",
     "status": "completed"
    },
    "tags": []
   },
   "outputs": [
    {
     "name": "stdout",
     "output_type": "stream",
     "text": [
      "True\n",
      "True\n",
      "<class 'pandas.core.frame.DataFrame'>\n",
      "RangeIndex: 42000 entries, 0 to 41999\n",
      "Columns: 784 entries, pixel0 to pixel783\n",
      "dtypes: int64(784)\n",
      "memory usage: 251.2 MB\n"
     ]
    }
   ],
   "source": [
    "# Check if there's no nulls\n",
    "print(X_train.isnull().sum().sum() == 0)\n",
    "print(y_train.isnull().sum().sum() == 0)\n",
    "\n",
    "X_train.info()"
   ]
  },
  {
   "cell_type": "markdown",
   "id": "622bb0ef",
   "metadata": {
    "papermill": {
     "duration": 0.005608,
     "end_time": "2023-07-26T03:23:19.321953",
     "exception": false,
     "start_time": "2023-07-26T03:23:19.316345",
     "status": "completed"
    },
    "tags": []
   },
   "source": [
    "## Data Preprocessing"
   ]
  },
  {
   "cell_type": "code",
   "execution_count": 5,
   "id": "023b2b33",
   "metadata": {
    "execution": {
     "iopub.execute_input": "2023-07-26T03:23:19.335102Z",
     "iopub.status.busy": "2023-07-26T03:23:19.334765Z",
     "iopub.status.idle": "2023-07-26T03:23:19.513623Z",
     "shell.execute_reply": "2023-07-26T03:23:19.512541Z"
    },
    "papermill": {
     "duration": 0.188838,
     "end_time": "2023-07-26T03:23:19.516689",
     "exception": false,
     "start_time": "2023-07-26T03:23:19.327851",
     "status": "completed"
    },
    "tags": []
   },
   "outputs": [],
   "source": [
    "X_train = X_train / 255.0\n",
    "test = test / 255.0\n",
    "\n",
    "#Normalization"
   ]
  },
  {
   "cell_type": "code",
   "execution_count": 6,
   "id": "b794e33e",
   "metadata": {
    "execution": {
     "iopub.execute_input": "2023-07-26T03:23:19.529780Z",
     "iopub.status.busy": "2023-07-26T03:23:19.529467Z",
     "iopub.status.idle": "2023-07-26T03:23:19.534388Z",
     "shell.execute_reply": "2023-07-26T03:23:19.533290Z"
    },
    "papermill": {
     "duration": 0.014056,
     "end_time": "2023-07-26T03:23:19.536793",
     "exception": false,
     "start_time": "2023-07-26T03:23:19.522737",
     "status": "completed"
    },
    "tags": []
   },
   "outputs": [],
   "source": [
    "X_train = X_train.values.reshape(-1,28,28,1)\n",
    "test = test.values.reshape(-1,28,28,1)\n",
    "\n",
    "# if image is RGB then set dims to 28 28 3"
   ]
  },
  {
   "cell_type": "code",
   "execution_count": 7,
   "id": "080db9ba",
   "metadata": {
    "execution": {
     "iopub.execute_input": "2023-07-26T03:23:19.548897Z",
     "iopub.status.busy": "2023-07-26T03:23:19.548615Z",
     "iopub.status.idle": "2023-07-26T03:23:19.553909Z",
     "shell.execute_reply": "2023-07-26T03:23:19.553072Z"
    },
    "papermill": {
     "duration": 0.013532,
     "end_time": "2023-07-26T03:23:19.555889",
     "exception": false,
     "start_time": "2023-07-26T03:23:19.542357",
     "status": "completed"
    },
    "tags": []
   },
   "outputs": [],
   "source": [
    "y_train = to_categorical(y_train, num_classes = 10)"
   ]
  },
  {
   "cell_type": "code",
   "execution_count": 8,
   "id": "1713260f",
   "metadata": {
    "execution": {
     "iopub.execute_input": "2023-07-26T03:23:19.568197Z",
     "iopub.status.busy": "2023-07-26T03:23:19.567914Z",
     "iopub.status.idle": "2023-07-26T03:23:19.942097Z",
     "shell.execute_reply": "2023-07-26T03:23:19.941062Z"
    },
    "papermill": {
     "duration": 0.382922,
     "end_time": "2023-07-26T03:23:19.944608",
     "exception": false,
     "start_time": "2023-07-26T03:23:19.561686",
     "status": "completed"
    },
    "tags": []
   },
   "outputs": [],
   "source": [
    "random_seed = 2\n",
    "X_train, X_val, y_train, y_val = train_test_split(X_train, y_train, test_size = 0.1, random_state = random_seed)"
   ]
  },
  {
   "cell_type": "code",
   "execution_count": 9,
   "id": "e2a9a440",
   "metadata": {
    "execution": {
     "iopub.execute_input": "2023-07-26T03:23:19.959750Z",
     "iopub.status.busy": "2023-07-26T03:23:19.958807Z",
     "iopub.status.idle": "2023-07-26T03:23:20.355805Z",
     "shell.execute_reply": "2023-07-26T03:23:20.354923Z"
    },
    "papermill": {
     "duration": 0.407204,
     "end_time": "2023-07-26T03:23:20.358204",
     "exception": false,
     "start_time": "2023-07-26T03:23:19.951000",
     "status": "completed"
    },
    "tags": []
   },
   "outputs": [
    {
     "data": {
      "image/png": "[encoded data removed]",
      "text/plain": [
       "<Figure size 640x480 with 1 Axes>"
      ]
     },
     "metadata": {},
     "output_type": "display_data"
    }
   ],
   "source": [
    "eg = plt.imshow(X_train[0][:,:,0])"
   ]
  },
  {
   "cell_type": "markdown",
   "id": "a09b5204",
   "metadata": {
    "papermill": {
     "duration": 0.005822,
     "end_time": "2023-07-26T03:23:20.370392",
     "exception": false,
     "start_time": "2023-07-26T03:23:20.364570",
     "status": "completed"
    },
    "tags": []
   },
   "source": [
    "## Defining model"
   ]
  },
  {
   "cell_type": "code",
   "execution_count": 10,
   "id": "93c642ff",
   "metadata": {
    "execution": {
     "iopub.execute_input": "2023-07-26T03:23:20.383393Z",
     "iopub.status.busy": "2023-07-26T03:23:20.383080Z",
     "iopub.status.idle": "2023-07-26T03:23:43.889045Z",
     "shell.execute_reply": "2023-07-26T03:23:43.887899Z"
    },
    "papermill": {
     "duration": 23.515127,
     "end_time": "2023-07-26T03:23:43.891236",
     "exception": false,
     "start_time": "2023-07-26T03:23:20.376109",
     "status": "completed"
    },
    "tags": []
   },
   "outputs": [
    {
     "name": "stderr",
     "output_type": "stream",
     "text": [
      "2023-07-26 03:23:27.067318: E tensorflow/core/grappler/optimizers/meta_optimizer.cc:954] layout failed: INVALID_ARGUMENT: Size of values 0 does not match size of permutation 4 @ fanin shape insequential/dropout/dropout/SelectV2-2-TransposeNHWCToNCHW-LayoutOptimizer\n"
     ]
    },
    {
     "name": "stdout",
     "output_type": "stream",
     "text": [
      "440/440 [==============================] - 18s 19ms/step - loss: 0.1511 - accuracy: 0.9520 - val_loss: 0.1047 - val_accuracy: 0.9686 - lr: 0.0010\n"
     ]
    },
    {
     "data": {
      "text/plain": [
       "<keras.callbacks.History at 0x7cab12275330>"
      ]
     },
     "execution_count": 10,
     "metadata": {},
     "output_type": "execute_result"
    }
   ],
   "source": [
    "model = Sequential([\n",
    "    Conv2D(filters=64, kernel_size=(5, 5), padding='Same', activation='relu', input_shape=(28, 28, 1)),\n",
    "    BatchNormalization(),\n",
    "    Conv2D(filters=64, kernel_size=(5, 5), padding='Same', activation='relu'),\n",
    "    BatchNormalization(),\n",
    "    MaxPool2D(pool_size=(2, 2)),\n",
    "    Dropout(0.25),\n",
    "\n",
    "    Conv2D(filters=64, kernel_size=(3, 3), padding='Same', activation='relu'),\n",
    "    BatchNormalization(),\n",
    "    Conv2D(filters=64, kernel_size=(3, 3), padding='Same', activation='relu'),\n",
    "    BatchNormalization(),\n",
    "    MaxPool2D(pool_size=(2, 2), strides=(2, 2)),\n",
    "    Dropout(0.25),\n",
    "\n",
    "    Conv2D(filters=64, kernel_size=(3, 3), padding='Same',  activation='relu'),\n",
    "    BatchNormalization(),\n",
    "    Dropout(0.25),\n",
    "\n",
    "    Flatten(),\n",
    "    Dense(256, activation='relu'),\n",
    "    BatchNormalization(),\n",
    "    Dropout(0.25),\n",
    "\n",
    "    Dense(10, activation ='softmax'),\n",
    "])\n",
    "\n",
    "loss = 'categorical_crossentropy'\n",
    "optimizer = RMSprop(learning_rate=0.001, rho=0.9, epsilon=1e-08, decay=0.0)\n",
    "metrics = ['accuracy']\n",
    "\n",
    "model.compile(optimizer = optimizer, loss = loss, metrics = metrics)\n",
    "\n",
    "learning_rate_reduction = ReduceLROnPlateau(monitor='val_loss', \n",
    "                                            patience=2, \n",
    "                                            verbose=2, \n",
    "                                            factor=0.5, \n",
    "                                            min_lr=0.00001\n",
    ")\n",
    "\n",
    "early_stopping = EarlyStopping(monitor='val_loss',\n",
    "                              patience=5,\n",
    "                              verbose=0,\n",
    "                              restore_best_weights=True)\n",
    "\n",
    "model.fit(X_train, y_train,\n",
    "          batch_size = 86,\n",
    "          epochs = 1, #change this after submitting\n",
    "          validation_data = (X_val, y_val),\n",
    "          callbacks = [learning_rate_reduction, early_stopping],\n",
    "         )\n"
   ]
  },
  {
   "cell_type": "markdown",
   "id": "85d90520",
   "metadata": {
    "papermill": {
     "duration": 0.017447,
     "end_time": "2023-07-26T03:23:43.926298",
     "exception": false,
     "start_time": "2023-07-26T03:23:43.908851",
     "status": "completed"
    },
    "tags": []
   },
   "source": [
    "## Data Augmentation"
   ]
  },
  {
   "cell_type": "code",
   "execution_count": 11,
   "id": "0aabc12f",
   "metadata": {
    "execution": {
     "iopub.execute_input": "2023-07-26T03:23:43.964987Z",
     "iopub.status.busy": "2023-07-26T03:23:43.963923Z",
     "iopub.status.idle": "2023-07-26T03:30:17.963266Z",
     "shell.execute_reply": "2023-07-26T03:30:17.962117Z"
    },
    "papermill": {
     "duration": 394.021421,
     "end_time": "2023-07-26T03:30:17.965708",
     "exception": false,
     "start_time": "2023-07-26T03:23:43.944287",
     "status": "completed"
    },
    "tags": []
   },
   "outputs": [
    {
     "name": "stdout",
     "output_type": "stream",
     "text": [
      "Epoch 1/30\n"
     ]
    },
    {
     "name": "stderr",
     "output_type": "stream",
     "text": [
      "2023-07-26 03:23:45.029999: E tensorflow/core/grappler/optimizers/meta_optimizer.cc:954] layout failed: INVALID_ARGUMENT: Size of values 0 does not match size of permutation 4 @ fanin shape insequential/dropout/dropout/SelectV2-2-TransposeNHWCToNCHW-LayoutOptimizer\n"
     ]
    },
    {
     "name": "stdout",
     "output_type": "stream",
     "text": [
      "439/439 [==============================] - 19s 40ms/step - loss: 0.1212 - accuracy: 0.9619 - val_loss: 0.0385 - val_accuracy: 0.9881 - lr: 0.0010\n",
      "Epoch 2/30\n",
      "439/439 [==============================] - 17s 38ms/step - loss: 0.0757 - accuracy: 0.9769 - val_loss: 0.0308 - val_accuracy: 0.9900 - lr: 0.0010\n",
      "Epoch 3/30\n",
      "439/439 [==============================] - 17s 40ms/step - loss: 0.0591 - accuracy: 0.9813 - val_loss: 0.0279 - val_accuracy: 0.9917 - lr: 0.0010\n",
      "Epoch 4/30\n",
      "439/439 [==============================] - 17s 39ms/step - loss: 0.0503 - accuracy: 0.9848 - val_loss: 0.0306 - val_accuracy: 0.9905 - lr: 0.0010\n",
      "Epoch 5/30\n",
      "439/439 [==============================] - 17s 38ms/step - loss: 0.0471 - accuracy: 0.9858 - val_loss: 0.0169 - val_accuracy: 0.9940 - lr: 0.0010\n",
      "Epoch 6/30\n",
      "439/439 [==============================] - 17s 40ms/step - loss: 0.0444 - accuracy: 0.9868 - val_loss: 0.0293 - val_accuracy: 0.9905 - lr: 0.0010\n",
      "Epoch 7/30\n",
      "438/439 [============================>.] - ETA: 0s - loss: 0.0402 - accuracy: 0.9877\n",
      "Epoch 7: ReduceLROnPlateau reducing learning rate to 0.0005000000237487257.\n",
      "439/439 [==============================] - 17s 38ms/step - loss: 0.0402 - accuracy: 0.9877 - val_loss: 0.0174 - val_accuracy: 0.9943 - lr: 0.0010\n",
      "Epoch 8/30\n",
      "439/439 [==============================] - 17s 40ms/step - loss: 0.0293 - accuracy: 0.9911 - val_loss: 0.0161 - val_accuracy: 0.9940 - lr: 5.0000e-04\n",
      "Epoch 9/30\n",
      "439/439 [==============================] - 18s 40ms/step - loss: 0.0298 - accuracy: 0.9910 - val_loss: 0.0228 - val_accuracy: 0.9931 - lr: 5.0000e-04\n",
      "Epoch 10/30\n",
      "439/439 [==============================] - 17s 38ms/step - loss: 0.0251 - accuracy: 0.9922 - val_loss: 0.0150 - val_accuracy: 0.9955 - lr: 5.0000e-04\n",
      "Epoch 11/30\n",
      "439/439 [==============================] - 17s 39ms/step - loss: 0.0248 - accuracy: 0.9927 - val_loss: 0.0133 - val_accuracy: 0.9955 - lr: 5.0000e-04\n",
      "Epoch 12/30\n",
      "439/439 [==============================] - 17s 38ms/step - loss: 0.0250 - accuracy: 0.9928 - val_loss: 0.0158 - val_accuracy: 0.9950 - lr: 5.0000e-04\n",
      "Epoch 13/30\n",
      "438/439 [============================>.] - ETA: 0s - loss: 0.0243 - accuracy: 0.9922\n",
      "Epoch 13: ReduceLROnPlateau reducing learning rate to 0.0002500000118743628.\n",
      "439/439 [==============================] - 18s 41ms/step - loss: 0.0242 - accuracy: 0.9923 - val_loss: 0.0163 - val_accuracy: 0.9952 - lr: 5.0000e-04\n",
      "Epoch 14/30\n",
      "439/439 [==============================] - 19s 42ms/step - loss: 0.0212 - accuracy: 0.9935 - val_loss: 0.0126 - val_accuracy: 0.9962 - lr: 2.5000e-04\n",
      "Epoch 15/30\n",
      "439/439 [==============================] - 17s 40ms/step - loss: 0.0179 - accuracy: 0.9946 - val_loss: 0.0142 - val_accuracy: 0.9957 - lr: 2.5000e-04\n",
      "Epoch 16/30\n",
      "439/439 [==============================] - 18s 40ms/step - loss: 0.0171 - accuracy: 0.9950 - val_loss: 0.0122 - val_accuracy: 0.9964 - lr: 2.5000e-04\n",
      "Epoch 17/30\n",
      "439/439 [==============================] - 17s 39ms/step - loss: 0.0180 - accuracy: 0.9944 - val_loss: 0.0128 - val_accuracy: 0.9962 - lr: 2.5000e-04\n",
      "Epoch 18/30\n",
      "439/439 [==============================] - ETA: 0s - loss: 0.0186 - accuracy: 0.9944\n",
      "Epoch 18: ReduceLROnPlateau reducing learning rate to 0.0001250000059371814.\n",
      "439/439 [==============================] - 18s 40ms/step - loss: 0.0186 - accuracy: 0.9944 - val_loss: 0.0128 - val_accuracy: 0.9955 - lr: 2.5000e-04\n",
      "Epoch 19/30\n",
      "439/439 [==============================] - 16s 37ms/step - loss: 0.0159 - accuracy: 0.9953 - val_loss: 0.0132 - val_accuracy: 0.9964 - lr: 1.2500e-04\n",
      "Epoch 20/30\n",
      "438/439 [============================>.] - ETA: 0s - loss: 0.0155 - accuracy: 0.9952\n",
      "Epoch 20: ReduceLROnPlateau reducing learning rate to 6.25000029685907e-05.\n",
      "439/439 [==============================] - 17s 40ms/step - loss: 0.0155 - accuracy: 0.9953 - val_loss: 0.0132 - val_accuracy: 0.9964 - lr: 1.2500e-04\n",
      "Epoch 21/30\n",
      "439/439 [==============================] - 18s 40ms/step - loss: 0.0158 - accuracy: 0.9950 - val_loss: 0.0135 - val_accuracy: 0.9964 - lr: 6.2500e-05\n"
     ]
    }
   ],
   "source": [
    "datagen = ImageDataGenerator(\n",
    "    featurewise_center=False,\n",
    "    samplewise_center=False,\n",
    "    featurewise_std_normalization=False,\n",
    "    samplewise_std_normalization=False,\n",
    "    zca_whitening=False,\n",
    "    rotation_range=10,\n",
    "    zoom_range=0.2,\n",
    "    width_shift_range=0.1,\n",
    "    height_shift_range=0.1,\n",
    "    horizontal_flip=False,\n",
    "    vertical_flip=False)\n",
    "\n",
    "datagen.fit(X_train)\n",
    "\n",
    "history = model.fit(datagen.flow(X_train, y_train, batch_size = 86),\n",
    "                   epochs = 30,\n",
    "                   validation_data = (X_val, y_val),\n",
    "                   callbacks = [learning_rate_reduction, early_stopping],\n",
    "                   steps_per_epoch = X_train.shape[0] // 86)"
   ]
  },
  {
   "cell_type": "code",
   "execution_count": 12,
   "id": "ca714ec6",
   "metadata": {
    "execution": {
     "iopub.execute_input": "2023-07-26T03:30:18.789799Z",
     "iopub.status.busy": "2023-07-26T03:30:18.788720Z",
     "iopub.status.idle": "2023-07-26T03:30:19.565911Z",
     "shell.execute_reply": "2023-07-26T03:30:19.564909Z"
    },
    "papermill": {
     "duration": 1.197544,
     "end_time": "2023-07-26T03:30:19.568191",
     "exception": false,
     "start_time": "2023-07-26T03:30:18.370647",
     "status": "completed"
    },
    "tags": []
   },
   "outputs": [
    {
     "data": {
      "image/png": "[encoded data removed]",
      "text/plain": [
       "<Figure size 640x480 with 2 Axes>"
      ]
     },
     "metadata": {},
     "output_type": "display_data"
    }
   ],
   "source": [
    "fig, ax = plt.subplots(2,1)\n",
    "ax[0].plot(history.history['loss'], color='b', label=\"Training loss\")\n",
    "ax[0].plot(history.history['val_loss'], color='r', label=\"Validation loss\",axes =ax[0])\n",
    "legend = ax[0].legend(loc='best', shadow=True)\n",
    "\n",
    "ax[1].plot(history.history['accuracy'], color='b', label=\"Training accuracy\")\n",
    "ax[1].plot(history.history['val_accuracy'], color='r',label=\"Validation accuracy\")\n",
    "legend = ax[1].legend(loc='best', shadow=True)"
   ]
  },
  {
   "cell_type": "markdown",
   "id": "70ec1e5a",
   "metadata": {
    "papermill": {
     "duration": 0.410788,
     "end_time": "2023-07-26T03:30:20.434377",
     "exception": false,
     "start_time": "2023-07-26T03:30:20.023589",
     "status": "completed"
    },
    "tags": []
   },
   "source": [
    "## Submit data (Kaggle)"
   ]
  },
  {
   "cell_type": "code",
   "execution_count": 13,
   "id": "d5c74fc0",
   "metadata": {
    "execution": {
     "iopub.execute_input": "2023-07-26T03:30:21.255005Z",
     "iopub.status.busy": "2023-07-26T03:30:21.254606Z",
     "iopub.status.idle": "2023-07-26T03:30:26.898072Z",
     "shell.execute_reply": "2023-07-26T03:30:26.896962Z"
    },
    "papermill": {
     "duration": 6.05771,
     "end_time": "2023-07-26T03:30:26.901151",
     "exception": false,
     "start_time": "2023-07-26T03:30:20.843441",
     "status": "completed"
    },
    "tags": []
   },
   "outputs": [
    {
     "name": "stdout",
     "output_type": "stream",
     "text": [
      "875/875 [==============================] - 2s 3ms/step\n"
     ]
    }
   ],
   "source": [
    "results = model.predict(test)\n",
    "results = np.argmax(results, axis=1)\n",
    "results = pd.Series(results, name=\"Label\")\n",
    "\n",
    "submission = pd.concat([pd.Series(range(1,28001), name = \"ImageId\"), results], axis = 1)\n",
    "\n",
    "submission.to_csv(\"cnn_digit_recognition.csv\", index = False)"
   ]
  }
 ],
 "metadata": {
  "kernelspec": {
   "display_name": "Python 3",
   "language": "python",
   "name": "python3"
  },
  "language_info": {
   "codemirror_mode": {
    "name": "ipython",
    "version": 3
   },
   "file_extension": ".py",
   "mimetype": "text/x-python",
   "name": "python",
   "nbconvert_exporter": "python",
   "pygments_lexer": "ipython3",
   "version": "3.10.10"
  },
  "papermill": {
   "default_parameters": {},
   "duration": 460.211313,
   "end_time": "2023-07-26T03:30:30.388472",
   "environment_variables": {},
   "exception": null,
   "input_path": "__notebook__.ipynb",
   "output_path": "__notebook__.ipynb",
   "parameters": {},
   "start_time": "2023-07-26T03:22:50.177159",
   "version": "2.4.0"
  }
 },
 "nbformat": 4,
 "nbformat_minor": 5
}
