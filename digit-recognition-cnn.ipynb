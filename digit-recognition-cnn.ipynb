{
 "cells": [
  {
   "cell_type": "markdown",
   "id": "98aaab79",
   "metadata": {
    "papermill": {
     "duration": 0.005535,
     "end_time": "2023-07-21T11:49:34.494436",
     "exception": false,
     "start_time": "2023-07-21T11:49:34.488901",
     "status": "completed"
    },
    "tags": []
   },
   "source": [
    "# Digit Recognition using Convolutional Neural Network\n",
    "\n",
    "Heavily inspired by Yassine Ghouzam's Notebook\n",
    "\n",
    "Link to Notebook: https://www.kaggle.com/code/yassineghouzam/introduction-to-cnn-keras-0-997-top-6#3.-CNN"
   ]
  },
  {
   "cell_type": "code",
   "execution_count": 1,
   "id": "df6f6b16",
   "metadata": {
    "_cell_guid": "b1076dfc-b9ad-4769-8c92-a6c4dae69d19",
    "_uuid": "8f2839f25d086af736a60e9eeb907d3b93b6e0e5",
    "execution": {
     "iopub.execute_input": "2023-07-21T11:49:34.506489Z",
     "iopub.status.busy": "2023-07-21T11:49:34.506098Z",
     "iopub.status.idle": "2023-07-21T11:49:46.852912Z",
     "shell.execute_reply": "2023-07-21T11:49:46.851679Z"
    },
    "papermill": {
     "duration": 12.355416,
     "end_time": "2023-07-21T11:49:46.855254",
     "exception": false,
     "start_time": "2023-07-21T11:49:34.499838",
     "status": "completed"
    },
    "tags": []
   },
   "outputs": [
    {
     "name": "stderr",
     "output_type": "stream",
     "text": [
      "/opt/conda/lib/python3.10/site-packages/tensorflow_io/python/ops/__init__.py:98: UserWarning: unable to load libtensorflow_io_plugins.so: unable to open file: libtensorflow_io_plugins.so, from paths: ['/opt/conda/lib/python3.10/site-packages/tensorflow_io/python/ops/libtensorflow_io_plugins.so']\n",
      "caused by: ['/opt/conda/lib/python3.10/site-packages/tensorflow_io/python/ops/libtensorflow_io_plugins.so: undefined symbol: _ZN3tsl6StatusC1EN10tensorflow5error4CodeESt17basic_string_viewIcSt11char_traitsIcEENS_14SourceLocationE']\n",
      "  warnings.warn(f\"unable to load libtensorflow_io_plugins.so: {e}\")\n",
      "/opt/conda/lib/python3.10/site-packages/tensorflow_io/python/ops/__init__.py:104: UserWarning: file system plugins are not loaded: unable to open file: libtensorflow_io.so, from paths: ['/opt/conda/lib/python3.10/site-packages/tensorflow_io/python/ops/libtensorflow_io.so']\n",
      "caused by: ['/opt/conda/lib/python3.10/site-packages/tensorflow_io/python/ops/libtensorflow_io.so: undefined symbol: _ZTVN10tensorflow13GcsFileSystemE']\n",
      "  warnings.warn(f\"file system plugins are not loaded: {e}\")\n"
     ]
    },
    {
     "name": "stdout",
     "output_type": "stream",
     "text": [
      "/kaggle/input/digit-recognizer/sample_submission.csv\n",
      "/kaggle/input/digit-recognizer/train.csv\n",
      "/kaggle/input/digit-recognizer/test.csv\n"
     ]
    }
   ],
   "source": [
    "# This Python 3 environment comes with many helpful analytics libraries installed\n",
    "# It is defined by the kaggle/python Docker image: https://github.com/kaggle/docker-python\n",
    "# For example, here's several helpful packages to load\n",
    "\n",
    "import numpy as np # linear algebra\n",
    "import pandas as pd # data processing, CSV file I/O (e.g. pd.read_csv)\n",
    "import matplotlib.pyplot as plt\n",
    "import seaborn as sns\n",
    "%matplotlib inline\n",
    "\n",
    "np.random.seed(2)\n",
    "\n",
    "import tensorflow as tf\n",
    "from tensorflow import keras\n",
    "\n",
    "from sklearn.model_selection import train_test_split\n",
    "from sklearn.metrics import confusion_matrix\n",
    "from keras.utils.np_utils import to_categorical # one-hot encoding\n",
    "from keras.models import Sequential\n",
    "from keras.layers import Dense, Dropout, Flatten, Conv2D, MaxPool2D\n",
    "from keras.preprocessing.image import ImageDataGenerator\n",
    "from keras.callbacks import ReduceLROnPlateau, EarlyStopping\n",
    "from keras.optimizers import RMSprop\n",
    "\n",
    "sns.set(style='white', context='notebook', palette='deep')\n",
    "\n",
    "\n",
    "# Input data files are available in the read-only \"../input/\" directory\n",
    "# For example, running this (by clicking run or pressing Shift+Enter) will list all files under the input directory\n",
    "\n",
    "import os\n",
    "for dirname, _, filenames in os.walk('/kaggle/input'):\n",
    "    for filename in filenames:\n",
    "        print(os.path.join(dirname, filename))\n",
    "\n",
    "# You can write up to 20GB to the current directory (/kaggle/working/) that gets preserved as output when you create a version using \"Save & Run All\" \n",
    "# You can also write temporary files to /kaggle/temp/, but they won't be saved outside of the current session"
   ]
  },
  {
   "cell_type": "code",
   "execution_count": 2,
   "id": "8a62349d",
   "metadata": {
    "execution": {
     "iopub.execute_input": "2023-07-21T11:49:46.868237Z",
     "iopub.status.busy": "2023-07-21T11:49:46.866965Z",
     "iopub.status.idle": "2023-07-21T11:49:52.732847Z",
     "shell.execute_reply": "2023-07-21T11:49:52.731863Z"
    },
    "papermill": {
     "duration": 5.874586,
     "end_time": "2023-07-21T11:49:52.735336",
     "exception": false,
     "start_time": "2023-07-21T11:49:46.860750",
     "status": "completed"
    },
    "tags": []
   },
   "outputs": [],
   "source": [
    "train = pd.read_csv('/kaggle/input/digit-recognizer/train.csv')\n",
    "test = pd.read_csv('/kaggle/input/digit-recognizer/test.csv')\n",
    "sample = pd.read_csv('/kaggle/input/digit-recognizer/sample_submission.csv')"
   ]
  },
  {
   "cell_type": "markdown",
   "id": "60c010cb",
   "metadata": {
    "papermill": {
     "duration": 0.005061,
     "end_time": "2023-07-21T11:49:52.745856",
     "exception": false,
     "start_time": "2023-07-21T11:49:52.740795",
     "status": "completed"
    },
    "tags": []
   },
   "source": [
    "## Data Representation"
   ]
  },
  {
   "cell_type": "code",
   "execution_count": 3,
   "id": "00ad5f36",
   "metadata": {
    "execution": {
     "iopub.execute_input": "2023-07-21T11:49:52.758785Z",
     "iopub.status.busy": "2023-07-21T11:49:52.757335Z",
     "iopub.status.idle": "2023-07-21T11:49:52.857455Z",
     "shell.execute_reply": "2023-07-21T11:49:52.856325Z"
    },
    "papermill": {
     "duration": 0.10869,
     "end_time": "2023-07-21T11:49:52.859794",
     "exception": false,
     "start_time": "2023-07-21T11:49:52.751104",
     "status": "completed"
    },
    "tags": []
   },
   "outputs": [
    {
     "data": {
      "text/plain": [
       "1    4684\n",
       "7    4401\n",
       "3    4351\n",
       "9    4188\n",
       "2    4177\n",
       "6    4137\n",
       "0    4132\n",
       "4    4072\n",
       "8    4063\n",
       "5    3795\n",
       "Name: label, dtype: int64"
      ]
     },
     "execution_count": 3,
     "metadata": {},
     "output_type": "execute_result"
    }
   ],
   "source": [
    "X_train = train.drop(['label'], axis = 1)\n",
    "y_train = train['label']\n",
    "\n",
    "# Count numbers\n",
    "y_train.value_counts()"
   ]
  },
  {
   "cell_type": "code",
   "execution_count": 4,
   "id": "030667a0",
   "metadata": {
    "execution": {
     "iopub.execute_input": "2023-07-21T11:49:52.873325Z",
     "iopub.status.busy": "2023-07-21T11:49:52.872444Z",
     "iopub.status.idle": "2023-07-21T11:49:52.941822Z",
     "shell.execute_reply": "2023-07-21T11:49:52.940671Z"
    },
    "papermill": {
     "duration": 0.078881,
     "end_time": "2023-07-21T11:49:52.944412",
     "exception": false,
     "start_time": "2023-07-21T11:49:52.865531",
     "status": "completed"
    },
    "tags": []
   },
   "outputs": [
    {
     "name": "stdout",
     "output_type": "stream",
     "text": [
      "True\n",
      "True\n",
      "<class 'pandas.core.frame.DataFrame'>\n",
      "RangeIndex: 42000 entries, 0 to 41999\n",
      "Columns: 784 entries, pixel0 to pixel783\n",
      "dtypes: int64(784)\n",
      "memory usage: 251.2 MB\n"
     ]
    }
   ],
   "source": [
    "# Check if there's no nulls\n",
    "print(X_train.isnull().sum().sum() == 0)\n",
    "print(y_train.isnull().sum().sum() == 0)\n",
    "\n",
    "X_train.info()"
   ]
  },
  {
   "cell_type": "markdown",
   "id": "460301ac",
   "metadata": {
    "papermill": {
     "duration": 0.005412,
     "end_time": "2023-07-21T11:49:52.955391",
     "exception": false,
     "start_time": "2023-07-21T11:49:52.949979",
     "status": "completed"
    },
    "tags": []
   },
   "source": [
    "## Data Preprocessing"
   ]
  },
  {
   "cell_type": "code",
   "execution_count": 5,
   "id": "39a37873",
   "metadata": {
    "execution": {
     "iopub.execute_input": "2023-07-21T11:49:52.968844Z",
     "iopub.status.busy": "2023-07-21T11:49:52.968077Z",
     "iopub.status.idle": "2023-07-21T11:49:53.146913Z",
     "shell.execute_reply": "2023-07-21T11:49:53.145869Z"
    },
    "papermill": {
     "duration": 0.188289,
     "end_time": "2023-07-21T11:49:53.149343",
     "exception": false,
     "start_time": "2023-07-21T11:49:52.961054",
     "status": "completed"
    },
    "tags": []
   },
   "outputs": [],
   "source": [
    "X_train = X_train / 255.0\n",
    "test = test / 255.0\n",
    "\n",
    "#Normalization"
   ]
  },
  {
   "cell_type": "code",
   "execution_count": 6,
   "id": "b47a5ec7",
   "metadata": {
    "execution": {
     "iopub.execute_input": "2023-07-21T11:49:53.162020Z",
     "iopub.status.busy": "2023-07-21T11:49:53.161716Z",
     "iopub.status.idle": "2023-07-21T11:49:53.166581Z",
     "shell.execute_reply": "2023-07-21T11:49:53.165612Z"
    },
    "papermill": {
     "duration": 0.013553,
     "end_time": "2023-07-21T11:49:53.168718",
     "exception": false,
     "start_time": "2023-07-21T11:49:53.155165",
     "status": "completed"
    },
    "tags": []
   },
   "outputs": [],
   "source": [
    "X_train = X_train.values.reshape(-1,28,28,1)\n",
    "test = test.values.reshape(-1,28,28,1)\n",
    "\n",
    "# if image is RGB then set dims to 28 28 3"
   ]
  },
  {
   "cell_type": "code",
   "execution_count": 7,
   "id": "3df4a056",
   "metadata": {
    "execution": {
     "iopub.execute_input": "2023-07-21T11:49:53.180585Z",
     "iopub.status.busy": "2023-07-21T11:49:53.180323Z",
     "iopub.status.idle": "2023-07-21T11:49:53.185485Z",
     "shell.execute_reply": "2023-07-21T11:49:53.184496Z"
    },
    "papermill": {
     "duration": 0.013515,
     "end_time": "2023-07-21T11:49:53.187553",
     "exception": false,
     "start_time": "2023-07-21T11:49:53.174038",
     "status": "completed"
    },
    "tags": []
   },
   "outputs": [],
   "source": [
    "y_train = to_categorical(y_train, num_classes = 10)"
   ]
  },
  {
   "cell_type": "code",
   "execution_count": 8,
   "id": "6501cf55",
   "metadata": {
    "execution": {
     "iopub.execute_input": "2023-07-21T11:49:53.200630Z",
     "iopub.status.busy": "2023-07-21T11:49:53.199299Z",
     "iopub.status.idle": "2023-07-21T11:49:53.567411Z",
     "shell.execute_reply": "2023-07-21T11:49:53.566408Z"
    },
    "papermill": {
     "duration": 0.377066,
     "end_time": "2023-07-21T11:49:53.569978",
     "exception": false,
     "start_time": "2023-07-21T11:49:53.192912",
     "status": "completed"
    },
    "tags": []
   },
   "outputs": [],
   "source": [
    "random_seed = 2\n",
    "X_train, X_val, y_train, y_val = train_test_split(X_train, y_train, test_size = 0.1, random_state = random_seed)"
   ]
  },
  {
   "cell_type": "code",
   "execution_count": 9,
   "id": "b5ac2954",
   "metadata": {
    "execution": {
     "iopub.execute_input": "2023-07-21T11:49:53.583913Z",
     "iopub.status.busy": "2023-07-21T11:49:53.583260Z",
     "iopub.status.idle": "2023-07-21T11:49:53.960060Z",
     "shell.execute_reply": "2023-07-21T11:49:53.959152Z"
    },
    "papermill": {
     "duration": 0.386524,
     "end_time": "2023-07-21T11:49:53.962080",
     "exception": false,
     "start_time": "2023-07-21T11:49:53.575556",
     "status": "completed"
    },
    "tags": []
   },
   "outputs": [
    {
     "data": {
      "image/png": "[encoded data removed]",
      "text/plain": [
       "<Figure size 640x480 with 1 Axes>"
      ]
     },
     "metadata": {},
     "output_type": "display_data"
    }
   ],
   "source": [
    "eg = plt.imshow(X_train[0][:,:,0])"
   ]
  },
  {
   "cell_type": "markdown",
   "id": "3298c6ab",
   "metadata": {
    "papermill": {
     "duration": 0.005491,
     "end_time": "2023-07-21T11:49:53.973359",
     "exception": false,
     "start_time": "2023-07-21T11:49:53.967868",
     "status": "completed"
    },
    "tags": []
   },
   "source": [
    "## Defining model"
   ]
  },
  {
   "cell_type": "code",
   "execution_count": 10,
   "id": "ca5490d9",
   "metadata": {
    "execution": {
     "iopub.execute_input": "2023-07-21T11:49:53.985877Z",
     "iopub.status.busy": "2023-07-21T11:49:53.985571Z",
     "iopub.status.idle": "2023-07-21T11:50:20.476549Z",
     "shell.execute_reply": "2023-07-21T11:50:20.475632Z"
    },
    "papermill": {
     "duration": 26.500198,
     "end_time": "2023-07-21T11:50:20.479089",
     "exception": false,
     "start_time": "2023-07-21T11:49:53.978891",
     "status": "completed"
    },
    "tags": []
   },
   "outputs": [
    {
     "name": "stderr",
     "output_type": "stream",
     "text": [
      "2023-07-21 11:49:59.923890: E tensorflow/core/grappler/optimizers/meta_optimizer.cc:954] layout failed: INVALID_ARGUMENT: Size of values 0 does not match size of permutation 4 @ fanin shape insequential/dropout/dropout/SelectV2-2-TransposeNHWCToNCHW-LayoutOptimizer\n"
     ]
    },
    {
     "name": "stdout",
     "output_type": "stream",
     "text": [
      "440/440 [==============================] - 14s 10ms/step - loss: 0.2352 - accuracy: 0.9253 - val_loss: 0.0627 - val_accuracy: 0.9819 - lr: 0.0010\n"
     ]
    },
    {
     "data": {
      "text/plain": [
       "<keras.callbacks.History at 0x788d741f0610>"
      ]
     },
     "execution_count": 10,
     "metadata": {},
     "output_type": "execute_result"
    }
   ],
   "source": [
    "model = Sequential([\n",
    "    Conv2D(filters = 32, kernel_size = (5,5), padding = 'Same', activation = 'relu', input_shape = (28, 28, 1)),\n",
    "    Conv2D(filters = 32, kernel_size = (5,5), padding = 'Same', activation = 'relu'),\n",
    "    MaxPool2D(pool_size = (2,2)),\n",
    "    Dropout(0.25),\n",
    "    Conv2D(filters = 64, kernel_size = (3,3), padding = 'Same', activation = 'relu'),\n",
    "    Conv2D(filters = 64, kernel_size = (3,3), padding = 'Same', activation = 'relu'),\n",
    "    MaxPool2D(pool_size = (2,2), strides = (2,2)),\n",
    "    Dropout(0.25),\n",
    "    Flatten(),\n",
    "    Dense(256, activation = 'relu'),\n",
    "    Dropout(0.5),\n",
    "    Dense(10, activation = 'softmax')\n",
    "])\n",
    "\n",
    "loss = 'categorical_crossentropy'\n",
    "optimizer = RMSprop(learning_rate=0.001, rho=0.9, epsilon=1e-08, decay=0.0)\n",
    "metrics = ['accuracy']\n",
    "\n",
    "model.compile(optimizer = optimizer, loss = loss, metrics = metrics)\n",
    "\n",
    "learning_rate_reduction = ReduceLROnPlateau(monitor='val_loss', \n",
    "                                            patience=2, \n",
    "                                            verbose=2, \n",
    "                                            factor=0.5, \n",
    "                                            min_lr=0.00001\n",
    ")\n",
    "\n",
    "early_stopping = EarlyStopping(monitor='val_loss',\n",
    "                              patience=5,\n",
    "                              verbose=0,\n",
    "                              restore_best_weights=True)\n",
    "\n",
    "model.fit(X_train, y_train,\n",
    "          batch_size = 86,\n",
    "          epochs = 1, #change this after submitting\n",
    "          validation_data = (X_val, y_val),\n",
    "          callbacks = [learning_rate_reduction, early_stopping],\n",
    "         )\n"
   ]
  },
  {
   "cell_type": "markdown",
   "id": "718bdc06",
   "metadata": {
    "papermill": {
     "duration": 0.010941,
     "end_time": "2023-07-21T11:50:20.502103",
     "exception": false,
     "start_time": "2023-07-21T11:50:20.491162",
     "status": "completed"
    },
    "tags": []
   },
   "source": [
    "## Data Augmentation"
   ]
  },
  {
   "cell_type": "code",
   "execution_count": 11,
   "id": "f9a02a2a",
   "metadata": {
    "execution": {
     "iopub.execute_input": "2023-07-21T11:50:20.525531Z",
     "iopub.status.busy": "2023-07-21T11:50:20.525217Z",
     "iopub.status.idle": "2023-07-21T11:55:56.630755Z",
     "shell.execute_reply": "2023-07-21T11:55:56.629712Z"
    },
    "papermill": {
     "duration": 336.122298,
     "end_time": "2023-07-21T11:55:56.635426",
     "exception": false,
     "start_time": "2023-07-21T11:50:20.513128",
     "status": "completed"
    },
    "tags": []
   },
   "outputs": [
    {
     "name": "stdout",
     "output_type": "stream",
     "text": [
      "Epoch 1/30\n",
      "  3/439 [..............................] - ETA: 13s - loss: 0.7781 - accuracy: 0.7713 "
     ]
    },
    {
     "name": "stderr",
     "output_type": "stream",
     "text": [
      "2023-07-21 11:50:21.155401: E tensorflow/core/grappler/optimizers/meta_optimizer.cc:954] layout failed: INVALID_ARGUMENT: Size of values 0 does not match size of permutation 4 @ fanin shape insequential/dropout/dropout/SelectV2-2-TransposeNHWCToNCHW-LayoutOptimizer\n"
     ]
    },
    {
     "name": "stdout",
     "output_type": "stream",
     "text": [
      "439/439 [==============================] - 15s 34ms/step - loss: 0.2051 - accuracy: 0.9383 - val_loss: 0.0464 - val_accuracy: 0.9862 - lr: 0.0010\n",
      "Epoch 2/30\n",
      "439/439 [==============================] - 15s 34ms/step - loss: 0.1130 - accuracy: 0.9669 - val_loss: 0.0379 - val_accuracy: 0.9902 - lr: 0.0010\n",
      "Epoch 3/30\n",
      "439/439 [==============================] - 15s 33ms/step - loss: 0.0947 - accuracy: 0.9718 - val_loss: 0.0445 - val_accuracy: 0.9862 - lr: 0.0010\n",
      "Epoch 4/30\n",
      "439/439 [==============================] - 15s 34ms/step - loss: 0.0786 - accuracy: 0.9766 - val_loss: 0.0263 - val_accuracy: 0.9919 - lr: 0.0010\n",
      "Epoch 5/30\n",
      "439/439 [==============================] - 14s 33ms/step - loss: 0.0746 - accuracy: 0.9785 - val_loss: 0.0287 - val_accuracy: 0.9910 - lr: 0.0010\n",
      "Epoch 6/30\n",
      "439/439 [==============================] - ETA: 0s - loss: 0.0703 - accuracy: 0.9796\n",
      "Epoch 6: ReduceLROnPlateau reducing learning rate to 0.0005000000237487257.\n",
      "439/439 [==============================] - 15s 34ms/step - loss: 0.0703 - accuracy: 0.9796 - val_loss: 0.0300 - val_accuracy: 0.9919 - lr: 0.0010\n",
      "Epoch 7/30\n",
      "439/439 [==============================] - 15s 35ms/step - loss: 0.0540 - accuracy: 0.9839 - val_loss: 0.0174 - val_accuracy: 0.9955 - lr: 5.0000e-04\n",
      "Epoch 8/30\n",
      "439/439 [==============================] - 15s 33ms/step - loss: 0.0527 - accuracy: 0.9848 - val_loss: 0.0192 - val_accuracy: 0.9948 - lr: 5.0000e-04\n",
      "Epoch 9/30\n",
      "439/439 [==============================] - ETA: 0s - loss: 0.0501 - accuracy: 0.9856\n",
      "Epoch 9: ReduceLROnPlateau reducing learning rate to 0.0002500000118743628.\n",
      "439/439 [==============================] - 15s 34ms/step - loss: 0.0501 - accuracy: 0.9856 - val_loss: 0.0204 - val_accuracy: 0.9933 - lr: 5.0000e-04\n",
      "Epoch 10/30\n",
      "439/439 [==============================] - 15s 34ms/step - loss: 0.0415 - accuracy: 0.9872 - val_loss: 0.0167 - val_accuracy: 0.9945 - lr: 2.5000e-04\n",
      "Epoch 11/30\n",
      "439/439 [==============================] - 15s 33ms/step - loss: 0.0412 - accuracy: 0.9879 - val_loss: 0.0188 - val_accuracy: 0.9950 - lr: 2.5000e-04\n",
      "Epoch 12/30\n",
      "439/439 [==============================] - 16s 35ms/step - loss: 0.0403 - accuracy: 0.9886 - val_loss: 0.0163 - val_accuracy: 0.9948 - lr: 2.5000e-04\n",
      "Epoch 13/30\n",
      "439/439 [==============================] - 15s 34ms/step - loss: 0.0395 - accuracy: 0.9885 - val_loss: 0.0155 - val_accuracy: 0.9945 - lr: 2.5000e-04\n",
      "Epoch 14/30\n",
      "439/439 [==============================] - 15s 35ms/step - loss: 0.0378 - accuracy: 0.9886 - val_loss: 0.0152 - val_accuracy: 0.9962 - lr: 2.5000e-04\n",
      "Epoch 15/30\n",
      "439/439 [==============================] - 15s 34ms/step - loss: 0.0393 - accuracy: 0.9884 - val_loss: 0.0178 - val_accuracy: 0.9952 - lr: 2.5000e-04\n",
      "Epoch 16/30\n",
      "439/439 [==============================] - ETA: 0s - loss: 0.0377 - accuracy: 0.9890\n",
      "Epoch 16: ReduceLROnPlateau reducing learning rate to 0.0001250000059371814.\n",
      "439/439 [==============================] - 16s 36ms/step - loss: 0.0377 - accuracy: 0.9890 - val_loss: 0.0176 - val_accuracy: 0.9950 - lr: 2.5000e-04\n",
      "Epoch 17/30\n",
      "439/439 [==============================] - 15s 34ms/step - loss: 0.0359 - accuracy: 0.9896 - val_loss: 0.0168 - val_accuracy: 0.9960 - lr: 1.2500e-04\n",
      "Epoch 18/30\n",
      "439/439 [==============================] - ETA: 0s - loss: 0.0363 - accuracy: 0.9894\n",
      "Epoch 18: ReduceLROnPlateau reducing learning rate to 6.25000029685907e-05.\n",
      "439/439 [==============================] - 16s 36ms/step - loss: 0.0363 - accuracy: 0.9894 - val_loss: 0.0168 - val_accuracy: 0.9957 - lr: 1.2500e-04\n",
      "Epoch 19/30\n",
      "439/439 [==============================] - 15s 34ms/step - loss: 0.0317 - accuracy: 0.9905 - val_loss: 0.0167 - val_accuracy: 0.9950 - lr: 6.2500e-05\n"
     ]
    }
   ],
   "source": [
    "datagen = ImageDataGenerator(\n",
    "    featurewise_center=False,\n",
    "    samplewise_center=False,\n",
    "    featurewise_std_normalization=False,\n",
    "    samplewise_std_normalization=False,\n",
    "    zca_whitening=False,\n",
    "    rotation_range=10,\n",
    "    zoom_range=0.2,\n",
    "    width_shift_range=0.1,\n",
    "    height_shift_range=0.1,\n",
    "    horizontal_flip=False,\n",
    "    vertical_flip=False)\n",
    "\n",
    "datagen.fit(X_train)\n",
    "\n",
    "history = model.fit(datagen.flow(X_train, y_train, batch_size = 86),\n",
    "                   epochs = 30,\n",
    "                   validation_data = (X_val, y_val),\n",
    "                   callbacks = [learning_rate_reduction, early_stopping],\n",
    "                   steps_per_epoch = X_train.shape[0] // 86)"
   ]
  },
  {
   "cell_type": "code",
   "execution_count": 12,
   "id": "57d71b98",
   "metadata": {
    "execution": {
     "iopub.execute_input": "2023-07-21T11:55:57.324453Z",
     "iopub.status.busy": "2023-07-21T11:55:57.324055Z",
     "iopub.status.idle": "2023-07-21T11:55:58.049569Z",
     "shell.execute_reply": "2023-07-21T11:55:58.048586Z"
    },
    "papermill": {
     "duration": 1.066112,
     "end_time": "2023-07-21T11:55:58.051842",
     "exception": false,
     "start_time": "2023-07-21T11:55:56.985730",
     "status": "completed"
    },
    "tags": []
   },
   "outputs": [
    {
     "data": {
      "image/png": "[encoded data removed]",
      "text/plain": [
       "<Figure size 640x480 with 2 Axes>"
      ]
     },
     "metadata": {},
     "output_type": "display_data"
    }
   ],
   "source": [
    "fig, ax = plt.subplots(2,1)\n",
    "ax[0].plot(history.history['loss'], color='b', label=\"Training loss\")\n",
    "ax[0].plot(history.history['val_loss'], color='r', label=\"Validation loss\",axes =ax[0])\n",
    "legend = ax[0].legend(loc='best', shadow=True)\n",
    "\n",
    "ax[1].plot(history.history['accuracy'], color='b', label=\"Training accuracy\")\n",
    "ax[1].plot(history.history['val_accuracy'], color='r',label=\"Validation accuracy\")\n",
    "legend = ax[1].legend(loc='best', shadow=True)"
   ]
  },
  {
   "cell_type": "markdown",
   "id": "46157377",
   "metadata": {
    "papermill": {
     "duration": 0.383451,
     "end_time": "2023-07-21T11:55:58.785979",
     "exception": false,
     "start_time": "2023-07-21T11:55:58.402528",
     "status": "completed"
    },
    "tags": []
   },
   "source": [
    "## Submit data (Kaggle)"
   ]
  },
  {
   "cell_type": "code",
   "execution_count": 13,
   "id": "924a3f95",
   "metadata": {
    "execution": {
     "iopub.execute_input": "2023-07-21T11:55:59.475360Z",
     "iopub.status.busy": "2023-07-21T11:55:59.475002Z",
     "iopub.status.idle": "2023-07-21T11:56:02.466170Z",
     "shell.execute_reply": "2023-07-21T11:56:02.465082Z"
    },
    "papermill": {
     "duration": 3.34193,
     "end_time": "2023-07-21T11:56:02.469101",
     "exception": false,
     "start_time": "2023-07-21T11:55:59.127171",
     "status": "completed"
    },
    "tags": []
   },
   "outputs": [
    {
     "name": "stdout",
     "output_type": "stream",
     "text": [
      "875/875 [==============================] - 2s 2ms/step\n"
     ]
    }
   ],
   "source": [
    "results = model.predict(test)\n",
    "results = np.argmax(results, axis=1)\n",
    "results = pd.Series(results, name=\"Label\")\n",
    "\n",
    "submission = pd.concat([pd.Series(range(1,28001), name = \"ImageId\"), results], axis = 1)\n",
    "\n",
    "submission.to_csv(\"cnn_digit_recognition.csv\", index = False)"
   ]
  }
 ],
 "metadata": {
  "kernelspec": {
   "display_name": "Python 3",
   "language": "python",
   "name": "python3"
  },
  "language_info": {
   "codemirror_mode": {
    "name": "ipython",
    "version": 3
   },
   "file_extension": ".py",
   "mimetype": "text/x-python",
   "name": "python",
   "nbconvert_exporter": "python",
   "pygments_lexer": "ipython3",
   "version": "3.10.10"
  },
  "papermill": {
   "default_parameters": {},
   "duration": 404.303622,
   "end_time": "2023-07-21T11:56:06.764303",
   "environment_variables": {},
   "exception": null,
   "input_path": "__notebook__.ipynb",
   "output_path": "__notebook__.ipynb",
   "parameters": {},
   "start_time": "2023-07-21T11:49:22.460681",
   "version": "2.4.0"
  }
 },
 "nbformat": 4,
 "nbformat_minor": 5
}
